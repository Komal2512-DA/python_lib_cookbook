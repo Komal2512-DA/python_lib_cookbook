{
  "nbformat": 4,
  "nbformat_minor": 0,
  "metadata": {
    "colab": {
      "provenance": []
    },
    "kernelspec": {
      "name": "python3",
      "display_name": "Python 3"
    },
    "language_info": {
      "name": "python"
    }
  },
  "cells": [
    {
      "cell_type": "markdown",
      "source": [
        "## **NPS (Net Promoter Score)**"
      ],
      "metadata": {
        "id": "CoUkhyjuuRSD"
      }
    },
    {
      "cell_type": "markdown",
      "source": [
        "As a Data Analyst at **Airbnb**, the task involves analyzing user survey data and reporting the ***Net Promoter Score (NPS)*** to the manager. NPS measures customer satisfaction and the likelihood of customers recommending the service to others.\n",
        "\n",
        "Customers are asked to rate their likelihood to recommend the service on a scale from **0 to 10**:\n",
        "\n",
        "* **0–6** → **Detractors** (unlikely to recommend, possibly speaking negatively)\n",
        "\n",
        "* **7–8** → **Neutrals / Passives** (satisfied but not enthusiastic enough to actively recommend)\n",
        "\n",
        "* **9–10** → **Promoters** (loyal enthusiasts who are highly likely to recommend)"
      ],
      "metadata": {
        "id": "uFiL2AC6ufbn"
      }
    },
    {
      "cell_type": "markdown",
      "source": [
        "Load the dataset to the Colab Notebook"
      ],
      "metadata": {
        "id": "8o-EOpVvu-bp"
      }
    },
    {
      "cell_type": "code",
      "execution_count": 1,
      "metadata": {
        "colab": {
          "base_uri": "https://localhost:8080/"
        },
        "id": "jhKcLvwnuL-u",
        "outputId": "91ce748c-3cd0-4eeb-adac-c955bf208b97"
      },
      "outputs": [
        {
          "output_type": "stream",
          "name": "stdout",
          "text": [
            "Downloading...\n",
            "From: https://drive.google.com/uc?id=1clqWsIFkVaR5w0bKkOk5aYqiVhpAtsBY\n",
            "To: /content/NPS Score.txt\n",
            "\r  0% 0.00/2.55k [00:00<?, ?B/s]\r100% 2.55k/2.55k [00:00<00:00, 7.43MB/s]\n"
          ]
        }
      ],
      "source": [
        "!gdown 1clqWsIFkVaR5w0bKkOk5aYqiVhpAtsBY"
      ]
    },
    {
      "cell_type": "code",
      "source": [
        "# Import required library\n",
        "import numpy as np"
      ],
      "metadata": {
        "id": "np9peNHFv-NR"
      },
      "execution_count": 2,
      "outputs": []
    },
    {
      "cell_type": "code",
      "source": [
        "# load data\n",
        "scores = np.loadtxt('NPS Score.txt', dtype = 'int')\n",
        "scores"
      ],
      "metadata": {
        "colab": {
          "base_uri": "https://localhost:8080/"
        },
        "id": "wyU-qmTawHw5",
        "outputId": "55e68748-6cef-4b74-ca9d-a90c8a77c782"
      },
      "execution_count": 3,
      "outputs": [
        {
          "output_type": "execute_result",
          "data": {
            "text/plain": [
              "array([ 7, 10,  5, ...,  5,  9, 10])"
            ]
          },
          "metadata": {},
          "execution_count": 3
        }
      ]
    },
    {
      "cell_type": "code",
      "source": [
        "# detail of the data\n",
        "scores.ndim"
      ],
      "metadata": {
        "colab": {
          "base_uri": "https://localhost:8080/"
        },
        "id": "y2_grMFhwYzq",
        "outputId": "1a17f7be-9666-4a3e-f452-9b10d8735b66"
      },
      "execution_count": 4,
      "outputs": [
        {
          "output_type": "execute_result",
          "data": {
            "text/plain": [
              "1"
            ]
          },
          "metadata": {},
          "execution_count": 4
        }
      ]
    },
    {
      "cell_type": "code",
      "source": [
        "scores.shape"
      ],
      "metadata": {
        "colab": {
          "base_uri": "https://localhost:8080/"
        },
        "id": "n3qayQoGwflK",
        "outputId": "eb551473-c36b-40ad-a442-d44121c07bf9"
      },
      "execution_count": 5,
      "outputs": [
        {
          "output_type": "execute_result",
          "data": {
            "text/plain": [
              "(1167,)"
            ]
          },
          "metadata": {},
          "execution_count": 5
        }
      ]
    },
    {
      "cell_type": "markdown",
      "source": [
        "### Analysis on the 1 dimensional Array"
      ],
      "metadata": {
        "id": "dE5J9IpQza35"
      }
    },
    {
      "cell_type": "code",
      "source": [
        "#print first 10 users ratings\n",
        "scores[:10]"
      ],
      "metadata": {
        "colab": {
          "base_uri": "https://localhost:8080/"
        },
        "id": "4RJV3dwWwhWe",
        "outputId": "801e05ac-fd93-459b-d39a-e6a7cc7d40b8"
      },
      "execution_count": 6,
      "outputs": [
        {
          "output_type": "execute_result",
          "data": {
            "text/plain": [
              "array([ 7, 10,  5,  9,  9,  4,  7,  9,  9,  9])"
            ]
          },
          "metadata": {},
          "execution_count": 6
        }
      ]
    },
    {
      "cell_type": "markdown",
      "source": [
        "Use NumPy technique is used to filter scores where respondents are **detractors (score ≤ 6)**?"
      ],
      "metadata": {
        "id": "2D9uj45XwyNa"
      }
    },
    {
      "cell_type": "code",
      "source": [
        "detractor = scores[scores <= 6]\n",
        "detractor"
      ],
      "metadata": {
        "colab": {
          "base_uri": "https://localhost:8080/"
        },
        "id": "7a5cUaxVwr4H",
        "outputId": "99bf3ae9-ee8f-4efb-de0c-da242b2bf1ba"
      },
      "execution_count": 7,
      "outputs": [
        {
          "output_type": "execute_result",
          "data": {
            "text/plain": [
              "array([5, 4, 4, 5, 1, 5, 5, 1, 4, 5, 4, 4, 4, 5, 1, 4, 1, 4, 1, 5, 5, 1,\n",
              "       1, 4, 1, 5, 4, 1, 1, 4, 1, 5, 1, 4, 4, 1, 1, 1, 1, 1, 1, 1, 4, 1,\n",
              "       1, 5, 5, 5, 4, 4, 1, 4, 1, 4, 1, 5, 1, 1, 5, 4, 4, 4, 4, 1, 4, 5,\n",
              "       4, 4, 1, 1, 5, 5, 1, 5, 1, 5, 5, 4, 5, 4, 1, 1, 1, 1, 4, 1, 4, 4,\n",
              "       5, 4, 1, 1, 1, 1, 5, 4, 5, 5, 4, 1, 5, 1, 4, 4, 1, 1, 1, 4, 4, 5,\n",
              "       5, 4, 5, 5, 5, 1, 4, 1, 5, 5, 1, 5, 1, 1, 5, 5, 4, 4, 1, 4, 4, 4,\n",
              "       1, 1, 4, 4, 4, 5, 5, 1, 1, 4, 1, 4, 1, 4, 1, 4, 1, 4, 1, 5, 4, 4,\n",
              "       5, 1, 4, 5, 5, 5, 1, 5, 4, 1, 1, 5, 5, 5, 4, 5, 4, 4, 1, 4, 4, 4,\n",
              "       4, 5, 1, 5, 5, 1, 4, 4, 5, 1, 1, 4, 5, 5, 5, 1, 4, 5, 5, 4, 1, 5,\n",
              "       5, 5, 1, 1, 5, 5, 1, 1, 1, 4, 5, 5, 4, 4, 4, 5, 1, 4, 1, 4, 5, 4,\n",
              "       5, 5, 1, 5, 1, 5, 5, 1, 4, 5, 5, 4, 1, 5, 1, 4, 1, 4, 1, 1, 1, 1,\n",
              "       1, 1, 4, 1, 5, 4, 5, 1, 5, 1, 5, 4, 4, 4, 4, 5, 5, 1, 4, 1, 5, 5,\n",
              "       1, 4, 1, 1, 4, 4, 4, 4, 1, 4, 1, 1, 4, 1, 5, 4, 1, 1, 5, 4, 5, 4,\n",
              "       4, 4, 1, 5, 5, 1, 4, 5, 4, 4, 4, 1, 4, 1, 4, 4, 4, 5, 1, 1, 1, 4,\n",
              "       5, 5, 1, 5, 4, 5, 5, 4, 1, 1, 5, 5, 5, 1, 4, 5, 4, 5, 5, 5, 1, 4,\n",
              "       1, 5])"
            ]
          },
          "metadata": {},
          "execution_count": 7
        }
      ]
    },
    {
      "cell_type": "code",
      "source": [
        "len(detractor)"
      ],
      "metadata": {
        "colab": {
          "base_uri": "https://localhost:8080/"
        },
        "id": "ObB-WqQwxyiR",
        "outputId": "4234c801-e934-474f-cbdb-fe5018ede85d"
      },
      "execution_count": 14,
      "outputs": [
        {
          "output_type": "execute_result",
          "data": {
            "text/plain": [
              "332"
            ]
          },
          "metadata": {},
          "execution_count": 14
        }
      ]
    },
    {
      "cell_type": "markdown",
      "source": [
        "Filter who exactly are detractors"
      ],
      "metadata": {
        "id": "pJ5Zuidv4A6o"
      }
    },
    {
      "cell_type": "code",
      "source": [
        "scores<=6"
      ],
      "metadata": {
        "colab": {
          "base_uri": "https://localhost:8080/"
        },
        "id": "uz8Yvwzi4FdQ",
        "outputId": "8f8e8c55-308b-45a7-feb2-eed38576cd0c"
      },
      "execution_count": 25,
      "outputs": [
        {
          "output_type": "execute_result",
          "data": {
            "text/plain": [
              "array([False, False,  True, ...,  True, False, False])"
            ]
          },
          "metadata": {},
          "execution_count": 25
        }
      ]
    },
    {
      "cell_type": "markdown",
      "source": [
        "### **Identify Problems from Detractor Feedback**\n",
        "\n",
        "Array has Boolean values and True are detractors , If you have metadata (age group, purchase type, location), group ratings by these to see patterns.\n",
        "\n",
        "\n",
        "Along with this info , you can identify who exactly are detractors , find out their name , contact details and reviews on it and many more."
      ],
      "metadata": {
        "id": "WBrRZtnI4NIJ"
      }
    },
    {
      "cell_type": "markdown",
      "source": [
        "Calculate neutral percentage where the scores are 7 or 8"
      ],
      "metadata": {
        "id": "Yp2hoa8_3WyM"
      }
    },
    {
      "cell_type": "code",
      "source": [
        "neutral = scores[(scores>=7) & (scores<=8)]\n",
        "len(neutral)"
      ],
      "metadata": {
        "colab": {
          "base_uri": "https://localhost:8080/"
        },
        "id": "j7RF8cAC24eR",
        "outputId": "62ec7730-3e7e-4a86-d4e9-bf8da9065a74"
      },
      "execution_count": 22,
      "outputs": [
        {
          "output_type": "execute_result",
          "data": {
            "text/plain": [
              "226"
            ]
          },
          "metadata": {},
          "execution_count": 22
        }
      ]
    },
    {
      "cell_type": "code",
      "source": [
        "neutral_percentage = len(neutral)/len(scores) * 100\n",
        "neutral_percentage"
      ],
      "metadata": {
        "colab": {
          "base_uri": "https://localhost:8080/"
        },
        "id": "LBdToaDp3hi1",
        "outputId": "af5e59bf-beb2-4bff-f47a-6ee017b09a5d"
      },
      "execution_count": 23,
      "outputs": [
        {
          "output_type": "execute_result",
          "data": {
            "text/plain": [
              "19.365895458440445"
            ]
          },
          "metadata": {},
          "execution_count": 23
        }
      ]
    },
    {
      "cell_type": "markdown",
      "source": [
        "### **Ways to turn Neutral into Promoters**\n",
        "Create strategies:\n",
        "\n",
        "* Look at historical changes in NPS to see if initiatives helped move people upward.\n",
        "\n",
        "* If possible, run correlation with other business metrics to find improvement areas."
      ],
      "metadata": {
        "id": "EZr7hKjb3Mc4"
      }
    },
    {
      "cell_type": "markdown",
      "source": [
        "Calculates the percentage of Promoters (where score >= 9) from the NumPy array score?"
      ],
      "metadata": {
        "id": "t65W9a_6xJ-E"
      }
    },
    {
      "cell_type": "code",
      "source": [
        "promoters = scores[scores >= 9]\n",
        "promoters[:10]"
      ],
      "metadata": {
        "colab": {
          "base_uri": "https://localhost:8080/"
        },
        "id": "7USiz93Iw_jL",
        "outputId": "8e19f0e9-5862-4e84-8bce-825ba687067b"
      },
      "execution_count": 9,
      "outputs": [
        {
          "output_type": "execute_result",
          "data": {
            "text/plain": [
              "array([10,  9,  9,  9,  9,  9, 10,  9,  9, 10])"
            ]
          },
          "metadata": {},
          "execution_count": 9
        }
      ]
    },
    {
      "cell_type": "code",
      "source": [
        "len(promoters) # how many promoters are there"
      ],
      "metadata": {
        "colab": {
          "base_uri": "https://localhost:8080/"
        },
        "id": "_CPkSQPJxr75",
        "outputId": "ca23d916-0099-4dc3-9a0b-3b4b58ab399c"
      },
      "execution_count": 12,
      "outputs": [
        {
          "output_type": "execute_result",
          "data": {
            "text/plain": [
              "609"
            ]
          },
          "metadata": {},
          "execution_count": 12
        }
      ]
    },
    {
      "cell_type": "code",
      "source": [
        "#Alternate of finding out how many promoters are there\n",
        "sum(scores >= 9)"
      ],
      "metadata": {
        "colab": {
          "base_uri": "https://localhost:8080/"
        },
        "id": "TNGntqB-x6IG",
        "outputId": "33ea1aae-e300-4ee2-eca5-1abb8053140b"
      },
      "execution_count": 15,
      "outputs": [
        {
          "output_type": "execute_result",
          "data": {
            "text/plain": [
              "np.int64(609)"
            ]
          },
          "metadata": {},
          "execution_count": 15
        }
      ]
    },
    {
      "cell_type": "code",
      "source": [
        "percentage_promoters = len(promoters)/len(scores) * 100\n",
        "print(np.round(percentage_promoters, 2))"
      ],
      "metadata": {
        "colab": {
          "base_uri": "https://localhost:8080/"
        },
        "id": "KcYPgYeqxVPZ",
        "outputId": "56d125f1-2928-44ec-97f3-9a5bfe49005c"
      },
      "execution_count": 18,
      "outputs": [
        {
          "output_type": "stream",
          "name": "stdout",
          "text": [
            "52.19\n"
          ]
        }
      ]
    },
    {
      "cell_type": "markdown",
      "source": [
        "Calculate NPS Score = %Promoters - %Detractors"
      ],
      "metadata": {
        "id": "4eNXQxhKye_Z"
      }
    },
    {
      "cell_type": "code",
      "source": [
        "nps_score = (len(promoters) - len(detractor)) / len(scores) * 100\n",
        "print(np.round(nps_score, 2))"
      ],
      "metadata": {
        "colab": {
          "base_uri": "https://localhost:8080/"
        },
        "id": "gWtdDa9mxktl",
        "outputId": "63cb84f6-05c8-405c-f751-348e2bd3d703"
      },
      "execution_count": 21,
      "outputs": [
        {
          "output_type": "stream",
          "name": "stdout",
          "text": [
            "23.74\n"
          ]
        }
      ]
    },
    {
      "cell_type": "code",
      "source": [],
      "metadata": {
        "id": "Qoks8Lkey8gy"
      },
      "execution_count": null,
      "outputs": []
    }
  ]
}