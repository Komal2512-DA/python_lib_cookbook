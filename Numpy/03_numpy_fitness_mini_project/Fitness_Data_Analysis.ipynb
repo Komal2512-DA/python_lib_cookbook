{
  "nbformat": 4,
  "nbformat_minor": 0,
  "metadata": {
    "colab": {
      "provenance": []
    },
    "kernelspec": {
      "name": "python3",
      "display_name": "Python 3"
    },
    "language_info": {
      "name": "python"
    }
  },
  "cells": [
    {
      "cell_type": "markdown",
      "source": [
        "### 📊 **Fitness Data Analysis**\n",
        "As a Data Analyst for a **Fitness technology** company, I conducted an exploratory analysis of **smartwatch** data to uncover patterns in *user activity, mood, calorie expenditure, and sleep.*\n",
        "\n",
        "**Dataset Overview**\n",
        "\n",
        "* **Step Count -** Total daily steps recorded\n",
        "\n",
        "* **Mood -** Self-reported emotional state (Happy, Sad, Neutral)\n",
        "\n",
        "* **Calories Burned -** Daily energy expenditure\n",
        "\n",
        "* **Hours of Sleep -** Total nightly sleep duration\n",
        "\n",
        "* **Active Status -** Whether the user was active or inactive on a given day\n",
        "\n",
        "\\\n",
        "#### **Objective**\n",
        "The goal is to identify lifestyle patterns and potential recommendations to improve user wellness through data-driven insights, which could inform smartwatch features like personalized activity goals, sleep reminders, and mood-based alerts."
      ],
      "metadata": {
        "id": "ZcwXwOs7-etb"
      }
    },
    {
      "cell_type": "code",
      "execution_count": 1,
      "metadata": {
        "colab": {
          "base_uri": "https://localhost:8080/"
        },
        "id": "jDszPXVy-VW3",
        "outputId": "cd585224-4a80-43db-8561-ed0f9e671ebe"
      },
      "outputs": [
        {
          "output_type": "stream",
          "name": "stdout",
          "text": [
            "Downloading...\n",
            "From: https://drive.google.com/uc?id=1q93B2JaTMIs25wkAv9LkjdRTK_4ZZlCy\n",
            "To: /content/fit.txt\n",
            "\r  0% 0.00/3.43k [00:00<?, ?B/s]\r100% 3.43k/3.43k [00:00<00:00, 19.3MB/s]\n"
          ]
        }
      ],
      "source": [
        "# load the data to the Colab Notebook\n",
        "!gdown 1q93B2JaTMIs25wkAv9LkjdRTK_4ZZlCy"
      ]
    },
    {
      "cell_type": "code",
      "source": [
        "# import the necessary libraries\n",
        "import numpy as np"
      ],
      "metadata": {
        "id": "dEQ7cfTm_2FE"
      },
      "execution_count": 2,
      "outputs": []
    },
    {
      "cell_type": "code",
      "source": [
        "# load data\n",
        "data = np.loadtxt('fit.txt', dtype='str')"
      ],
      "metadata": {
        "colab": {
          "base_uri": "https://localhost:8080/"
        },
        "id": "8eTWseiV_7Sv",
        "outputId": "8a213cb1-9663-4e85-f326-ae33eb5e419a"
      },
      "execution_count": 3,
      "outputs": [
        {
          "output_type": "stream",
          "name": "stderr",
          "text": [
            "/tmp/ipython-input-3234902776.py:2: UserWarning: Input line 1 contained no data and will not be counted towards `max_rows=50000`.  This differs from the behaviour in NumPy <=1.22 which counted lines rather than rows.  If desired, the previous behaviour can be achieved by using `itertools.islice`.\n",
            "Please see the 1.23 release notes for an example on how to do this.  If you wish to ignore this warning, use `warnings.filterwarnings`.  This warning is expected to be removed in the future and is given only once per `loadtxt` call.\n",
            "  data = np.loadtxt('fit.txt', dtype='str')\n"
          ]
        }
      ]
    },
    {
      "cell_type": "code",
      "source": [
        "# detail of the data\n",
        "\n",
        "data.ndim"
      ],
      "metadata": {
        "colab": {
          "base_uri": "https://localhost:8080/"
        },
        "id": "LK7XLPjDAKhs",
        "outputId": "dc507e56-3f8c-4dab-f346-1de1873557f1"
      },
      "execution_count": null,
      "outputs": [
        {
          "output_type": "execute_result",
          "data": {
            "text/plain": [
              "2"
            ]
          },
          "metadata": {},
          "execution_count": 6
        }
      ]
    },
    {
      "cell_type": "code",
      "source": [
        "data.shape"
      ],
      "metadata": {
        "colab": {
          "base_uri": "https://localhost:8080/"
        },
        "id": "4YLAwepBAkIY",
        "outputId": "de5c77ff-31c8-4ff2-e78d-40dcfde513d2"
      },
      "execution_count": null,
      "outputs": [
        {
          "output_type": "execute_result",
          "data": {
            "text/plain": [
              "(96, 6)"
            ]
          },
          "metadata": {},
          "execution_count": 7
        }
      ]
    },
    {
      "cell_type": "markdown",
      "source": [
        "#### **Let's Analyse on the 2 dimensional array/data or metrix**"
      ],
      "metadata": {
        "id": "wXPEO-2EAp0Y"
      }
    },
    {
      "cell_type": "code",
      "source": [
        "# few records to understand the pattern of the data\n",
        "data[:5]"
      ],
      "metadata": {
        "colab": {
          "base_uri": "https://localhost:8080/"
        },
        "id": "3e-ROlRWAnay",
        "outputId": "8e2702c2-866a-447e-9fbb-6b8557401f66"
      },
      "execution_count": null,
      "outputs": [
        {
          "output_type": "execute_result",
          "data": {
            "text/plain": [
              "array([['06-10-2017', '5464', 'Neutral', '181', '5', 'Inactive'],\n",
              "       ['07-10-2017', '6041', 'Sad', '197', '8', 'Inactive'],\n",
              "       ['08-10-2017', '25', 'Sad', '0', '5', 'Inactive'],\n",
              "       ['09-10-2017', '5461', 'Sad', '174', '4', 'Inactive'],\n",
              "       ['10-10-2017', '6915', 'Neutral', '223', '5', 'Active']],\n",
              "      dtype='<U10')"
            ]
          },
          "metadata": {},
          "execution_count": 8
        }
      ]
    },
    {
      "cell_type": "markdown",
      "source": [
        "All the features in the form of string because numpy arrays conclude homogeneous data , so we have to seggregate the data accordingly and assign them to features accordingly ."
      ],
      "metadata": {
        "id": "07mQDufoD58A"
      }
    },
    {
      "cell_type": "code",
      "source": [
        "# seggregate the data into diff variable\n",
        "\n",
        "date = data[:, 0]\n",
        "\n",
        "step_count = data[:, 1].astype('int')\n",
        "\n",
        "mood = data[:, 2]\n",
        "\n",
        "calories = data[:, 3].astype('int')\n",
        "\n",
        "sleep = data[:, 4].astype('int')\n",
        "\n",
        "activity = data[:, 5]"
      ],
      "metadata": {
        "id": "MXkxGzGLBIwt"
      },
      "execution_count": 4,
      "outputs": []
    },
    {
      "cell_type": "markdown",
      "source": [
        "### Ques : What is the average step count on \"Active\" days?"
      ],
      "metadata": {
        "id": "rE79G9W8E7CA"
      }
    },
    {
      "cell_type": "code",
      "source": [
        "np.mean(step_count[activity == 'Active'])"
      ],
      "metadata": {
        "colab": {
          "base_uri": "https://localhost:8080/"
        },
        "id": "F1eWEqxtE0V6",
        "outputId": "d67a2a2d-95ad-4b12-b9cb-66e607f95a65"
      },
      "execution_count": null,
      "outputs": [
        {
          "output_type": "execute_result",
          "data": {
            "text/plain": [
              "np.float64(3226.5714285714284)"
            ]
          },
          "metadata": {},
          "execution_count": 11
        }
      ]
    },
    {
      "cell_type": "code",
      "source": [
        "np.mean(step_count[data[:, 5] == 'Active'])"
      ],
      "metadata": {
        "colab": {
          "base_uri": "https://localhost:8080/"
        },
        "id": "dc-wKqoqFDXa",
        "outputId": "5bb0236c-383d-4089-f412-69fabfc9f339"
      },
      "execution_count": null,
      "outputs": [
        {
          "output_type": "execute_result",
          "data": {
            "text/plain": [
              "np.float64(3226.5714285714284)"
            ]
          },
          "metadata": {},
          "execution_count": 12
        }
      ]
    },
    {
      "cell_type": "markdown",
      "source": [
        "### Ques : How many days had more than 5000 steps and burned more than 150 calories?"
      ],
      "metadata": {
        "id": "QrawlcLHFhSi"
      }
    },
    {
      "cell_type": "code",
      "source": [
        "len((step_count > 5000) & (calories > 150)) # len will return the overall length doesnt matter is it True or False , so this output is not correct"
      ],
      "metadata": {
        "colab": {
          "base_uri": "https://localhost:8080/"
        },
        "id": "qZ7HlXr_Fcb8",
        "outputId": "fc340299-e224-4e22-a11a-b6de1873678e"
      },
      "execution_count": null,
      "outputs": [
        {
          "output_type": "execute_result",
          "data": {
            "text/plain": [
              "96"
            ]
          },
          "metadata": {},
          "execution_count": 13
        }
      ]
    },
    {
      "cell_type": "code",
      "source": [
        "np.sum((step_count > 5000) & (calories > 150))"
      ],
      "metadata": {
        "colab": {
          "base_uri": "https://localhost:8080/"
        },
        "id": "IRaCDdkLFzNT",
        "outputId": "51fe7caf-ce60-40b9-de6c-bdede1411b57"
      },
      "execution_count": null,
      "outputs": [
        {
          "output_type": "execute_result",
          "data": {
            "text/plain": [
              "np.int64(17)"
            ]
          },
          "metadata": {},
          "execution_count": 14
        }
      ]
    },
    {
      "cell_type": "markdown",
      "source": [
        "17 days when the steps are more than 5000 and calories burned more than 150"
      ],
      "metadata": {
        "id": "CW7dah36GJFZ"
      }
    },
    {
      "cell_type": "markdown",
      "source": [
        "#### Ques : What percentage of days had a \"Sad\" mood?"
      ],
      "metadata": {
        "id": "wpDhpeoYGa6z"
      }
    },
    {
      "cell_type": "code",
      "source": [
        "len(date[mood == 'Sad']) / len(date) * 100"
      ],
      "metadata": {
        "colab": {
          "base_uri": "https://localhost:8080/"
        },
        "id": "o1Nb7BzyF93y",
        "outputId": "6ab5c52a-2b48-4ae2-bea3-d1084344fd36"
      },
      "execution_count": null,
      "outputs": [
        {
          "output_type": "execute_result",
          "data": {
            "text/plain": [
              "30.208333333333332"
            ]
          },
          "metadata": {},
          "execution_count": 15
        }
      ]
    },
    {
      "cell_type": "code",
      "source": [
        "len(data[data[:, 2] == 'Sad']) / len(data) * 100"
      ],
      "metadata": {
        "colab": {
          "base_uri": "https://localhost:8080/"
        },
        "id": "hWNeqODiGm53",
        "outputId": "b1b27883-fe54-420a-ca98-6483a341de4f"
      },
      "execution_count": null,
      "outputs": [
        {
          "output_type": "execute_result",
          "data": {
            "text/plain": [
              "30.208333333333332"
            ]
          },
          "metadata": {},
          "execution_count": 16
        }
      ]
    },
    {
      "cell_type": "markdown",
      "source": [
        "#### Ques : What is the maximum number of steps taken on days with less than 6 hours of sleep?"
      ],
      "metadata": {
        "id": "RgBHzxeoG46s"
      }
    },
    {
      "cell_type": "code",
      "source": [
        "np.max(step_count[sleep < 6])"
      ],
      "metadata": {
        "colab": {
          "base_uri": "https://localhost:8080/"
        },
        "id": "SN4YPEg3GywF",
        "outputId": "eb0b8cdc-02c5-4ff1-ecda-bb96f5334400"
      },
      "execution_count": null,
      "outputs": [
        {
          "output_type": "execute_result",
          "data": {
            "text/plain": [
              "np.int64(7422)"
            ]
          },
          "metadata": {},
          "execution_count": 19
        }
      ]
    },
    {
      "cell_type": "code",
      "source": [
        "np.max(data[data[:, 4].astype('int') < 6][:, 1].astype('int'))"
      ],
      "metadata": {
        "colab": {
          "base_uri": "https://localhost:8080/"
        },
        "id": "jKZ51ckYHHnw",
        "outputId": "d0a306dd-e270-4ad3-fe0e-1ac3ff24a2e0"
      },
      "execution_count": null,
      "outputs": [
        {
          "output_type": "execute_result",
          "data": {
            "text/plain": [
              "np.int64(7422)"
            ]
          },
          "metadata": {},
          "execution_count": 20
        }
      ]
    },
    {
      "cell_type": "markdown",
      "source": [
        "#### Ques : What are the average calories burned per hour of sleep on \"Inactive\" days?"
      ],
      "metadata": {
        "id": "DMstc3OVH46C"
      }
    },
    {
      "cell_type": "code",
      "source": [
        "np.mean(data[:, -3].astype('int')[data[:, -1] == 'Inactive']/data[:, -2].astype('int')[data[:, -1] == 'Inactive'])"
      ],
      "metadata": {
        "colab": {
          "base_uri": "https://localhost:8080/"
        },
        "id": "WW7hnb3hHxeX",
        "outputId": "26dd0a6b-d848-4bf2-ec1d-580f03cfc02b"
      },
      "execution_count": null,
      "outputs": [
        {
          "output_type": "execute_result",
          "data": {
            "text/plain": [
              "np.float64(18.62282480893592)"
            ]
          },
          "metadata": {},
          "execution_count": 21
        }
      ]
    },
    {
      "cell_type": "code",
      "source": [
        "inactive = activity == 'Inactive'\n",
        "\n",
        "np.mean(calories[inactive]/sleep[inactive])"
      ],
      "metadata": {
        "colab": {
          "base_uri": "https://localhost:8080/"
        },
        "id": "HmGFPXuQLflZ",
        "outputId": "5bebbeac-5c37-4be8-d319-1743b80f5cf3"
      },
      "execution_count": null,
      "outputs": [
        {
          "output_type": "execute_result",
          "data": {
            "text/plain": [
              "np.float64(18.62282480893592)"
            ]
          },
          "metadata": {},
          "execution_count": 23
        }
      ]
    },
    {
      "cell_type": "markdown",
      "source": [
        "#### Ques : Which mood had the highest average step count?"
      ],
      "metadata": {
        "id": "8qVz8Ft5L3zA"
      }
    },
    {
      "cell_type": "code",
      "source": [
        "np.unique(mood)"
      ],
      "metadata": {
        "colab": {
          "base_uri": "https://localhost:8080/"
        },
        "id": "luQFLfQQL_VC",
        "outputId": "ed065174-7874-4608-d218-3f18d9f6dcfc"
      },
      "execution_count": null,
      "outputs": [
        {
          "output_type": "execute_result",
          "data": {
            "text/plain": [
              "array(['Happy', 'Neutral', 'Sad'], dtype='<U10')"
            ]
          },
          "metadata": {},
          "execution_count": 24
        }
      ]
    },
    {
      "cell_type": "code",
      "source": [
        "print(np.mean(step_count[mood == 'Happy']))\n",
        "print(np.mean(step_count[mood == 'Neutral']))\n",
        "print(np.mean(step_count[mood == 'Sad']))"
      ],
      "metadata": {
        "colab": {
          "base_uri": "https://localhost:8080/"
        },
        "id": "_EmWftDSMl0h",
        "outputId": "9e286cbe-7a93-4b9c-c6a2-5b2b8707b188"
      },
      "execution_count": null,
      "outputs": [
        {
          "output_type": "stream",
          "name": "stdout",
          "text": [
            "3392.725\n",
            "3153.777777777778\n",
            "2103.0689655172414\n"
          ]
        }
      ]
    },
    {
      "cell_type": "code",
      "source": [
        "# return list of mean value of all the step_count in term of each mood\n",
        "\n",
        "[np.mean(step_count[mood == m]) for m in np.unique(mood)]"
      ],
      "metadata": {
        "colab": {
          "base_uri": "https://localhost:8080/"
        },
        "id": "b2ehxEcQM1ga",
        "outputId": "ffd3038c-572e-42bb-91bb-397e897a45f3"
      },
      "execution_count": null,
      "outputs": [
        {
          "output_type": "execute_result",
          "data": {
            "text/plain": [
              "[np.float64(3392.725),\n",
              " np.float64(3153.777777777778),\n",
              " np.float64(2103.0689655172414)]"
            ]
          },
          "metadata": {},
          "execution_count": 30
        }
      ]
    },
    {
      "cell_type": "code",
      "source": [
        "# find the max value's index number\n",
        "\n",
        "np.argmax([np.mean(step_count[mood == m]) for m in np.unique(mood)])"
      ],
      "metadata": {
        "colab": {
          "base_uri": "https://localhost:8080/"
        },
        "id": "IrW5iUctNdZ-",
        "outputId": "c66e5d76-af1b-45a2-cd5f-653b8433507c"
      },
      "execution_count": null,
      "outputs": [
        {
          "output_type": "execute_result",
          "data": {
            "text/plain": [
              "np.int64(0)"
            ]
          },
          "metadata": {},
          "execution_count": 31
        }
      ]
    },
    {
      "cell_type": "markdown",
      "source": [
        "0th index position of np.unique(mood) is return the maximum step count"
      ],
      "metadata": {
        "id": "D3zzq5SqN_tG"
      }
    },
    {
      "cell_type": "code",
      "source": [
        "# pass the max value's index number\n",
        "np.unique(mood)[np.argmax([np.mean(step_count[mood == m]) for m in np.unique(mood)])]"
      ],
      "metadata": {
        "colab": {
          "base_uri": "https://localhost:8080/",
          "height": 34
        },
        "id": "yH4odUctN-Hz",
        "outputId": "12347f46-db64-4cc3-cb34-4d07f614f184"
      },
      "execution_count": null,
      "outputs": [
        {
          "output_type": "execute_result",
          "data": {
            "text/plain": [
              "np.str_('Happy')"
            ],
            "application/vnd.google.colaboratory.intrinsic+json": {
              "type": "string"
            }
          },
          "metadata": {},
          "execution_count": 33
        }
      ]
    },
    {
      "cell_type": "code",
      "source": [
        "np.unique(data[:, 2])[np.argmax([np.mean(data[:, 1].astype('int')[data[:, 2] == m ]) for m in np.unique(data[:, 2])])]"
      ],
      "metadata": {
        "colab": {
          "base_uri": "https://localhost:8080/",
          "height": 34
        },
        "id": "iTP95QieQb11",
        "outputId": "48747ba7-c762-4eb5-a154-73ff5da6bed0"
      },
      "execution_count": null,
      "outputs": [
        {
          "output_type": "execute_result",
          "data": {
            "text/plain": [
              "np.str_('Happy')"
            ],
            "application/vnd.google.colaboratory.intrinsic+json": {
              "type": "string"
            }
          },
          "metadata": {},
          "execution_count": 35
        }
      ]
    },
    {
      "cell_type": "markdown",
      "source": [
        "When the mood is Happy , the step count of person is more"
      ],
      "metadata": {
        "id": "0ajJ1AXJORtR"
      }
    },
    {
      "cell_type": "markdown",
      "source": [
        "#### Ques : Calculate the correlation between step count and calories burned."
      ],
      "metadata": {
        "id": "lzhHDHw9Oh8H"
      }
    },
    {
      "cell_type": "code",
      "source": [
        "np.corrcoef(step_count, calories)"
      ],
      "metadata": {
        "colab": {
          "base_uri": "https://localhost:8080/"
        },
        "id": "tWQiSR3OOK85",
        "outputId": "c3f12e8c-d017-4272-db44-0ed1a76e5525"
      },
      "execution_count": null,
      "outputs": [
        {
          "output_type": "execute_result",
          "data": {
            "text/plain": [
              "array([[1.       , 0.9892597],\n",
              "       [0.9892597, 1.       ]])"
            ]
          },
          "metadata": {},
          "execution_count": 34
        }
      ]
    },
    {
      "cell_type": "code",
      "source": [
        "np.corrcoef(data[:, 1].astype('int'), data[:, -3].astype('int'))"
      ],
      "metadata": {
        "colab": {
          "base_uri": "https://localhost:8080/"
        },
        "id": "0qrwEs17QVhc",
        "outputId": "c72c950d-6b23-4ef7-86d7-297237172023"
      },
      "execution_count": null,
      "outputs": [
        {
          "output_type": "execute_result",
          "data": {
            "text/plain": [
              "array([[1.       , 0.9892597],\n",
              "       [0.9892597, 1.       ]])"
            ]
          },
          "metadata": {},
          "execution_count": 37
        }
      ]
    },
    {
      "cell_type": "markdown",
      "source": [
        "* **1.0:** A correlation of 1.0 indicates a perfect positive linear relationship, which is highly unlikely for real-world data like steps and calories.\n",
        "* **0.66:** This value represents a weaker positive correlation than the actual calculated value.\n",
        "* **0.75:** This value also represents a weaker positive correlation than the actual calculated value. These options are specific numbers and do not match the precise calculation from the data."
      ],
      "metadata": {
        "id": "YtgOp6OxRTdf"
      }
    },
    {
      "cell_type": "code",
      "source": [
        "np.corrcoef(data[:, 1].astype('int'), data[:, -3].astype('int'))[0, 1]"
      ],
      "metadata": {
        "colab": {
          "base_uri": "https://localhost:8080/"
        },
        "id": "bhuoT9zeRkpI",
        "outputId": "cf3e88eb-6fa2-40aa-ea4f-3489d3a080c0"
      },
      "execution_count": null,
      "outputs": [
        {
          "output_type": "execute_result",
          "data": {
            "text/plain": [
              "np.float64(0.9892596952985985)"
            ]
          },
          "metadata": {},
          "execution_count": 38
        }
      ]
    },
    {
      "cell_type": "markdown",
      "source": [
        "#### Ques : On how many days was the mood \"Sad\" and sleep less than the median sleep?"
      ],
      "metadata": {
        "id": "7ixTikoGRx5v"
      }
    },
    {
      "cell_type": "code",
      "source": [
        "np.sum((sleep < np.median(sleep)) & (mood== 'Sad'))"
      ],
      "metadata": {
        "colab": {
          "base_uri": "https://localhost:8080/"
        },
        "id": "59GPvVrvRBdN",
        "outputId": "ac3cb97a-1e79-465d-91aa-ab18d30a0152"
      },
      "execution_count": null,
      "outputs": [
        {
          "output_type": "execute_result",
          "data": {
            "text/plain": [
              "np.int64(10)"
            ]
          },
          "metadata": {},
          "execution_count": 41
        }
      ]
    },
    {
      "cell_type": "code",
      "source": [
        "np.sum((data[:, -2].astype('int') < np.median(data[:,-2].astype('int'))) & (data[:, 2]== 'Sad'))"
      ],
      "metadata": {
        "colab": {
          "base_uri": "https://localhost:8080/"
        },
        "id": "5y-6x-PoTFl4",
        "outputId": "32d27d52-fad4-4c7a-9e93-3b5cfc96d51c"
      },
      "execution_count": null,
      "outputs": [
        {
          "output_type": "execute_result",
          "data": {
            "text/plain": [
              "np.int64(10)"
            ]
          },
          "metadata": {},
          "execution_count": 45
        }
      ]
    },
    {
      "cell_type": "markdown",
      "source": [
        "There are total 10 days when the mood is Sad and Sleep is less than the median of sleep which means the sleep he usually takes"
      ],
      "metadata": {
        "id": "TnvEteBsSVBK"
      }
    },
    {
      "cell_type": "markdown",
      "source": [
        "#### Ques : What is the standard deviation of step count only for \"Happy\" mood days?"
      ],
      "metadata": {
        "id": "yIHwGSWuSlho"
      }
    },
    {
      "cell_type": "code",
      "source": [
        "np.std(step_count[mood == 'Happy'])"
      ],
      "metadata": {
        "colab": {
          "base_uri": "https://localhost:8080/"
        },
        "id": "VRz4iqiuSIYL",
        "outputId": "bffd7d20-b5a6-4a27-8ecb-e35ff155230a"
      },
      "execution_count": null,
      "outputs": [
        {
          "output_type": "execute_result",
          "data": {
            "text/plain": [
              "np.float64(2088.4016254961593)"
            ]
          },
          "metadata": {},
          "execution_count": 42
        }
      ]
    },
    {
      "cell_type": "code",
      "source": [
        "np.std(data[:, 1].astype('int')[data[:, 2] == 'Happy'])"
      ],
      "metadata": {
        "colab": {
          "base_uri": "https://localhost:8080/"
        },
        "id": "VhryzghBTAe3",
        "outputId": "744fd844-1959-40d7-99c8-65a586f811d1"
      },
      "execution_count": null,
      "outputs": [
        {
          "output_type": "execute_result",
          "data": {
            "text/plain": [
              "np.float64(2088.4016254961593)"
            ]
          },
          "metadata": {},
          "execution_count": 47
        }
      ]
    },
    {
      "cell_type": "markdown",
      "source": [
        "#### Quess : What is the most frequent number of hours slept?"
      ],
      "metadata": {
        "id": "ulzLT5HJT52y"
      }
    },
    {
      "cell_type": "code",
      "source": [
        "np.unique(sleep)"
      ],
      "metadata": {
        "colab": {
          "base_uri": "https://localhost:8080/"
        },
        "id": "6eLHYpJLTrTk",
        "outputId": "6f90be52-0c7c-4ae3-a38b-843126153643"
      },
      "execution_count": null,
      "outputs": [
        {
          "output_type": "execute_result",
          "data": {
            "text/plain": [
              "array([2, 3, 4, 5, 6, 7, 8, 9])"
            ]
          },
          "metadata": {},
          "execution_count": 51
        }
      ]
    },
    {
      "cell_type": "code",
      "source": [
        "np.argmax([np.sum(sleep == s) for s in np.unique(sleep)])"
      ],
      "metadata": {
        "colab": {
          "base_uri": "https://localhost:8080/"
        },
        "id": "VAoc3GXJV4q8",
        "outputId": "0590af02-2102-4447-8844-980388943e3d"
      },
      "execution_count": null,
      "outputs": [
        {
          "output_type": "execute_result",
          "data": {
            "text/plain": [
              "np.int64(3)"
            ]
          },
          "metadata": {},
          "execution_count": 55
        }
      ]
    },
    {
      "cell_type": "code",
      "source": [
        "np.unique(sleep)[np.argmax([np.sum(sleep == s) for s in np.unique(sleep)])]"
      ],
      "metadata": {
        "colab": {
          "base_uri": "https://localhost:8080/"
        },
        "id": "IHXZzpnTWOXj",
        "outputId": "c73545b1-9b61-49ee-d842-558ba65cd1e9"
      },
      "execution_count": null,
      "outputs": [
        {
          "output_type": "execute_result",
          "data": {
            "text/plain": [
              "np.int64(5)"
            ]
          },
          "metadata": {},
          "execution_count": 56
        }
      ]
    },
    {
      "cell_type": "markdown",
      "source": [
        "This person sleeps mostly for 5 hours"
      ],
      "metadata": {
        "id": "uj9O4eEYW0qT"
      }
    },
    {
      "cell_type": "markdown",
      "source": [
        "#### Ques : Which mood has the lowest average calories burned on days with more than the median hours of sleep and a step count above 4000?"
      ],
      "metadata": {
        "id": "Uojrk3LwYHWJ"
      }
    },
    {
      "cell_type": "code",
      "source": [
        "np.unique(mood)"
      ],
      "metadata": {
        "colab": {
          "base_uri": "https://localhost:8080/"
        },
        "id": "8AlFc3hVp3iw",
        "outputId": "e1c01817-abde-4455-e2fd-053ae4f64113"
      },
      "execution_count": 6,
      "outputs": [
        {
          "output_type": "execute_result",
          "data": {
            "text/plain": [
              "array(['Happy', 'Neutral', 'Sad'], dtype='<U10')"
            ]
          },
          "metadata": {},
          "execution_count": 6
        }
      ]
    },
    {
      "cell_type": "code",
      "source": [
        "# array of calories of each mood based on the condition where People who slept more than the median sleep for that mood & had more than 4000 steps.\n",
        "[calories[mood == m][(sleep[mood == m] > np.median(sleep[mood == m])) & (step_count[mood == m] > 4000)] for m in np.unique(mood)]"
      ],
      "metadata": {
        "colab": {
          "base_uri": "https://localhost:8080/"
        },
        "id": "ecXzb3Cp4Lo_",
        "outputId": "d074b21c-2013-4e03-da10-b03d9e18260d"
      },
      "execution_count": 7,
      "outputs": [
        {
          "output_type": "execute_result",
          "data": {
            "text/plain": [
              "[array([150, 150, 154, 193, 139, 192, 234, 131, 194]),\n",
              " array([129]),\n",
              " array([197, 149, 140, 220])]"
            ]
          },
          "metadata": {},
          "execution_count": 7
        }
      ]
    },
    {
      "cell_type": "code",
      "source": [
        "# find out the avg calories of each mood\n",
        "[np.mean(calories[mood == m][(sleep[mood == m] > np.median(sleep[mood == m])) & (step_count[mood == m] > 4000)]) for m in np.unique(mood)]"
      ],
      "metadata": {
        "colab": {
          "base_uri": "https://localhost:8080/"
        },
        "id": "cdhIZXt6tHsy",
        "outputId": "dd328cd0-5124-4e9b-b768-89c2a47c2a06"
      },
      "execution_count": 8,
      "outputs": [
        {
          "output_type": "execute_result",
          "data": {
            "text/plain": [
              "[np.float64(170.77777777777777), np.float64(129.0), np.float64(176.5)]"
            ]
          },
          "metadata": {},
          "execution_count": 8
        }
      ]
    },
    {
      "cell_type": "code",
      "source": [
        "# find out the index value of min calories\n",
        "np.argmin([np.mean(calories[mood == m][(sleep[mood == m] > np.median(sleep[mood == m])) & (step_count[mood == m] > 4000)]) for m in np.unique(mood)])"
      ],
      "metadata": {
        "colab": {
          "base_uri": "https://localhost:8080/"
        },
        "id": "6YUnZ9cwqLaR",
        "outputId": "5f00a158-fcb7-427e-950c-2232a4ea3500"
      },
      "execution_count": 9,
      "outputs": [
        {
          "output_type": "execute_result",
          "data": {
            "text/plain": [
              "np.int64(1)"
            ]
          },
          "metadata": {},
          "execution_count": 9
        }
      ]
    },
    {
      "cell_type": "code",
      "source": [
        "# pass the index number to the unique(mood) so that we can identify which mood has low calories based on specified condition\n",
        "np.unique(mood)[np.argmin([np.mean(calories[mood == m][(sleep[mood == m] > np.median(sleep[mood == m])) & (step_count[mood == m] > 4000)]) for m in np.unique(mood)])]"
      ],
      "metadata": {
        "colab": {
          "base_uri": "https://localhost:8080/",
          "height": 34
        },
        "id": "DYa2OhIesnWU",
        "outputId": "b8661084-69ae-421e-f8e2-524ffa5a1e12"
      },
      "execution_count": 10,
      "outputs": [
        {
          "output_type": "execute_result",
          "data": {
            "text/plain": [
              "np.str_('Neutral')"
            ],
            "application/vnd.google.colaboratory.intrinsic+json": {
              "type": "string"
            }
          },
          "metadata": {},
          "execution_count": 10
        }
      ]
    },
    {
      "cell_type": "code",
      "source": [
        "# but this not appears neat and clean\n",
        "np.unique(data[:, 2])[np.argmin([np.mean(data[:, 3].astype('int')[data[:, 2]== m][(data[:, 4].astype('int')[data[:, 2]== m] > np.median(data[:, 4].astype('int')[data[:, 2]==m])) & (data[:, 1].astype('int')[data[:, 2]==m]> 4000)]) for m in np.unique(data[:, 2])])]"
      ],
      "metadata": {
        "colab": {
          "base_uri": "https://localhost:8080/",
          "height": 34
        },
        "id": "AwP6FF-17pGv",
        "outputId": "c6d3a766-30b9-46d7-a648-f158bb4350b0"
      },
      "execution_count": 12,
      "outputs": [
        {
          "output_type": "execute_result",
          "data": {
            "text/plain": [
              "np.str_('Neutral')"
            ],
            "application/vnd.google.colaboratory.intrinsic+json": {
              "type": "string"
            }
          },
          "metadata": {},
          "execution_count": 12
        }
      ]
    },
    {
      "cell_type": "markdown",
      "source": [
        "#### Ques : What is the longest streak (in days) where 'Inactive' days had calories burned less than the daily mean across the full dataset?"
      ],
      "metadata": {
        "id": "Gi_LVARoYMBJ"
      }
    },
    {
      "cell_type": "code",
      "source": [
        "count = 0\n",
        "long_streak = 0\n",
        "\n",
        "for i in range(len(activity)):\n",
        "  if activity[i] == 'Inactive' and calories[i] < np.mean(calories):\n",
        "    count += 1\n",
        "    long_streak = max(count, long_streak)\n",
        "  else :\n",
        "    count = 0\n",
        "\n",
        "print(long_streak)"
      ],
      "metadata": {
        "colab": {
          "base_uri": "https://localhost:8080/"
        },
        "id": "0KRgLbdsDFjU",
        "outputId": "1421ca17-82de-4693-e62e-b289140af892"
      },
      "execution_count": 15,
      "outputs": [
        {
          "output_type": "stream",
          "name": "stdout",
          "text": [
            "8\n"
          ]
        }
      ]
    },
    {
      "cell_type": "markdown",
      "source": [
        "#### Ques : On days when the person was 'Sad' and burned fewer than average calories, what is the median step count?"
      ],
      "metadata": {
        "id": "y4OC69-sMvV5"
      }
    },
    {
      "cell_type": "code",
      "source": [
        "np.median(step_count[(mood == 'Sad') & (calories < np.mean(calories))])"
      ],
      "metadata": {
        "colab": {
          "base_uri": "https://localhost:8080/"
        },
        "id": "mppA47vVIMWy",
        "outputId": "c38b2415-d067-4281-f012-15e65c571ed3"
      },
      "execution_count": 16,
      "outputs": [
        {
          "output_type": "execute_result",
          "data": {
            "text/plain": [
              "np.float64(651.0)"
            ]
          },
          "metadata": {},
          "execution_count": 16
        }
      ]
    },
    {
      "cell_type": "markdown",
      "source": [
        "#### Ques : How many days had below-median step count, above-average sleep, and the mood was not 'Sad'?"
      ],
      "metadata": {
        "id": "G3fWDH9gNTzQ"
      }
    },
    {
      "cell_type": "code",
      "source": [
        "np.sum((step_count < np.mean(step_count)) & (sleep > np.mean(sleep)) & (mood != 'Sad'))"
      ],
      "metadata": {
        "colab": {
          "base_uri": "https://localhost:8080/"
        },
        "id": "-ZGcN11uNPzZ",
        "outputId": "15b96e95-1059-480b-91e3-d4746a685cec"
      },
      "execution_count": 17,
      "outputs": [
        {
          "output_type": "execute_result",
          "data": {
            "text/plain": [
              "np.int64(13)"
            ]
          },
          "metadata": {},
          "execution_count": 17
        }
      ]
    },
    {
      "cell_type": "markdown",
      "source": [
        "* 13 participants slept more than average but walked less than average and weren’t in a sad mood.\n",
        "* Encourage these individuals to increase daily activity to match their good sleep patterns for better overall health."
      ],
      "metadata": {
        "id": "qI_86jQnOp5R"
      }
    },
    {
      "cell_type": "markdown",
      "source": [
        "#### Ques : What is the correlation between hours of sleep and calories burned, only for days marked as 'Active'?"
      ],
      "metadata": {
        "id": "zsAdXU5GOVy0"
      }
    },
    {
      "cell_type": "code",
      "source": [
        "np.corrcoef(sleep[activity == 'Active'], calories[activity == 'Active'])"
      ],
      "metadata": {
        "colab": {
          "base_uri": "https://localhost:8080/"
        },
        "id": "gHlaRwsaOOef",
        "outputId": "e3a8652e-6674-4c21-f315-59b2f70b0ea1"
      },
      "execution_count": 18,
      "outputs": [
        {
          "output_type": "execute_result",
          "data": {
            "text/plain": [
              "array([[1.        , 0.03816229],\n",
              "       [0.03816229, 1.        ]])"
            ]
          },
          "metadata": {},
          "execution_count": 18
        }
      ]
    },
    {
      "cell_type": "markdown",
      "source": [
        "A correlation of 0.04 means there’s essentially no linear relationship between sleep and calories burned for “Active” participants — neither good nor bad by itself, just indicating that in this group, sleep duration doesn’t meaningfully affect calorie burn."
      ],
      "metadata": {
        "id": "NT4unyM1PLmr"
      }
    },
    {
      "cell_type": "markdown",
      "source": [
        "#### Ques : Which date corresponds to the day with the highest ratio of calories burned to hours of sleep?"
      ],
      "metadata": {
        "id": "Xg8Cbe92PTW2"
      }
    },
    {
      "cell_type": "code",
      "source": [
        "ratio = calories/sleep"
      ],
      "metadata": {
        "id": "n0TkVmCtO5dB"
      },
      "execution_count": 22,
      "outputs": []
    },
    {
      "cell_type": "code",
      "source": [
        "np.argmax(ratio) # returns the index value"
      ],
      "metadata": {
        "colab": {
          "base_uri": "https://localhost:8080/"
        },
        "id": "Z2W40c0RQbSU",
        "outputId": "2d49a674-a640-4f60-a60f-c5b07e3cb271"
      },
      "execution_count": 24,
      "outputs": [
        {
          "output_type": "execute_result",
          "data": {
            "text/plain": [
              "np.int64(32)"
            ]
          },
          "metadata": {},
          "execution_count": 24
        }
      ]
    },
    {
      "cell_type": "code",
      "source": [
        "data[np.argmax(ratio), 0]"
      ],
      "metadata": {
        "colab": {
          "base_uri": "https://localhost:8080/",
          "height": 34
        },
        "id": "STORL9iGRGHH",
        "outputId": "8fd3a799-75ab-435a-d032-acb43ac5b3f2"
      },
      "execution_count": 25,
      "outputs": [
        {
          "output_type": "execute_result",
          "data": {
            "text/plain": [
              "np.str_('07-11-2017')"
            ],
            "application/vnd.google.colaboratory.intrinsic+json": {
              "type": "string"
            }
          },
          "metadata": {},
          "execution_count": 25
        }
      ]
    },
    {
      "cell_type": "markdown",
      "source": [
        "#### Ques : Find the 3-day period (consecutive days) with the maximum total calories burned. What is the starting date of that period?"
      ],
      "metadata": {
        "id": "ktR-7xn1RFDo"
      }
    },
    {
      "cell_type": "code",
      "source": [
        "lst_of_total_calories = []\n",
        "\n",
        "for i in range(len(calories)- 2):\n",
        "  total_calories_for_3_days = calories[i] + calories[i+1] + calories[i+2]\n",
        "  lst_of_total_calories.append(total_calories_for_3_days)\n",
        "\n",
        "data[np.argmax(lst_of_total_calories), 0]"
      ],
      "metadata": {
        "colab": {
          "base_uri": "https://localhost:8080/",
          "height": 34
        },
        "id": "SL8e5I4CRS3g",
        "outputId": "505d9e24-1420-46a3-d64c-55dc05875a25"
      },
      "execution_count": 26,
      "outputs": [
        {
          "output_type": "execute_result",
          "data": {
            "text/plain": [
              "np.str_('12-12-2017')"
            ],
            "application/vnd.google.colaboratory.intrinsic+json": {
              "type": "string"
            }
          },
          "metadata": {},
          "execution_count": 26
        }
      ]
    },
    {
      "cell_type": "code",
      "source": [
        "#Alternate Way :\n",
        "\n",
        "# Compute rolling 3-day calorie sums\n",
        "window_sum = np.array([np.sum(calories[i:i+3]) for i in range(len(calories)-2)])\n",
        "\n",
        "data[np.argmax(window_sum), 0]"
      ],
      "metadata": {
        "colab": {
          "base_uri": "https://localhost:8080/",
          "height": 34
        },
        "id": "ekz64z6lSP_O",
        "outputId": "01f3af72-603c-44bd-ba39-aa9d75a9baa2"
      },
      "execution_count": 28,
      "outputs": [
        {
          "output_type": "execute_result",
          "data": {
            "text/plain": [
              "np.str_('12-12-2017')"
            ],
            "application/vnd.google.colaboratory.intrinsic+json": {
              "type": "string"
            }
          },
          "metadata": {},
          "execution_count": 28
        }
      ]
    },
    {
      "cell_type": "markdown",
      "source": [
        "The highest-calorie 3-day stretch started on 12 Dec 2017, indicating peak activity in that period."
      ],
      "metadata": {
        "id": "QMdeVdUaS2C2"
      }
    }
  ]
}